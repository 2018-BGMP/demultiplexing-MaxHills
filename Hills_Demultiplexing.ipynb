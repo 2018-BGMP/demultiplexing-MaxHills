{
 "cells": [
  {
   "cell_type": "markdown",
   "metadata": {},
   "source": [
    "# Part 1  \n",
    "---  \n",
    "## Demultiplexing:   \n",
    "---  \n",
    "### 1) File Identification  \n",
    "\n",
    "| File Name                    | ID      |  \n",
    "|:----------------------------:|:-------:|  \n",
    "| 1294_S1_L008_R1_001.fastq.gz | read1  |  \n",
    "| 1294_S1_L008_R2_001.fastq.gz | index1 |  \n",
    "| 1294_S1_L008_R3_001.fastq.gz | index2 |  \n",
    "| 1294_S1_L008_R4_001.fastq.gz | read2  |  \n"
   ]
  },
  {
   "cell_type": "markdown",
   "metadata": {},
   "source": [
    "### 2a) Python Code for Mean Q-score Analysis  \n",
    "---  \n",
    "Written by: Max Hills  \n",
    "**See Mean Quality-Score Graphs and Tables in Local Folder.**   "
   ]
  },
  {
   "cell_type": "code",
   "execution_count": 54,
   "metadata": {},
   "outputs": [],
   "source": [
    "% matplotlib inline\n",
    "import matplotlib.pyplot as plt\n",
    "import math\n",
    "import numpy as np\n",
    "def convert_phred(letter):\n",
    "    \"\"\"The function takes a single string character and converts it into the Illumina quality score.\"\"\"\n",
    "    phred_score = ord(letter)-33\n",
    "    return phred_score\n"
   ]
  },
  {
   "cell_type": "code",
   "execution_count": 76,
   "metadata": {},
   "outputs": [],
   "source": [
    "def avg_qs(fastq):\n",
    "    \"\"\"INPUT: fastq - A standard format fastq file of type str, readlen - The int length of the reads (in nucleotides)\n",
    "    OUTPUT: A table of average q-scores at each position, A line-graph of average q-scores at each position\"\"\"\n",
    "    with open(fastq,'r') as f:\n",
    "        # Initialize a line-count.\n",
    "        LC = 0\n",
    "        # Initialize a read-count.\n",
    "        RC = 0\n",
    "        # Iterate through each line in the file.\n",
    "        for line in f:        \n",
    "            # Increment the line count.\n",
    "            LC += 1        \n",
    "            # If the line number is a multiple of 4, do the following...\n",
    "            if LC%4 == 0:\n",
    "                line = line.strip()\n",
    "                readlen = len(line)\n",
    "                if RC == 0:\n",
    "                    all_qscores = np.zeros(readlen,dtype=int)\n",
    "                # Increment the read-count.\n",
    "                RC += 1\n",
    "                # Initialize charIndex\n",
    "                charIndex = 0\n",
    "                for char in line:\n",
    "                    # Get the decimal phred score at this position.\n",
    "                    score = convert_phred(char)\n",
    "                    # Store the score for the current position at its index within all_qscores. \n",
    "                    all_qscores[charIndex] += score\n",
    "                    # Increment charIndex.\n",
    "                    charIndex += 1\n",
    "    mean_scores = all_qscores/RC\n",
    "    table = fastq.replace('fastq','txt').replace('.gz','')\n",
    "    graph = fastq.replace('fastq','png').replace('.gz','')\n",
    "    with open(table, 'w') as t:\n",
    "        # Print a header for the columns.\n",
    "        print(\"# Base Pos\\tMean Quality Score\",file=t)\n",
    "        print(\"===========\\t==================\",file=t)\n",
    "        for i in range(readlen):\n",
    "            template = \"{}\\t\\t{:0.1f}\"\n",
    "            out = str(template.format(i,mean_scores[i]))\n",
    "            print(out,file=t)\n",
    "    # Initialize empty lists to hold x,y axis labels.\n",
    "    x = []\n",
    "    y = []\n",
    "    ylow = math.floor(min(mean_scores))-2\n",
    "    yhigh = math.ceil(max(mean_scores))+2\n",
    "    # Create x labels stepwise by 2's.\n",
    "    for n in range(0,readlen+1,2):\n",
    "        x.append(n)\n",
    "    # Create y labels stepwise by 1's.\n",
    "    for n in range(ylow,yhigh):\n",
    "        y.append(n)\n",
    "    # Create the figure, with size and color specifications\n",
    "    plt.figure(num=None, figsize=(16, 8), dpi=80, facecolor='w', edgecolor='k')\n",
    "    # Plot the mean_scores, with a dark blue line.\n",
    "    plt.plot(mean_scores, \"darkblue\")\n",
    "    # Create the x,y tick marks\n",
    "    plt.xticks(x)\n",
    "    plt.yticks(y)\n",
    "    # Label the x,y axes.\n",
    "    plt.xlabel(\"Position of Base in Read\")\n",
    "    plt.ylabel(\"Mean Quality Score\")\n",
    "    # Set the range for the x,y axes.\n",
    "    plt.axis([-1,(readlen+1), ylow, yhigh])\n",
    "    # Title the plot\n",
    "    plt.title(\"Average Quality Scores @ Base Position X\")\n",
    "    # Show the graph grid, then show the figure.\n",
    "    plt.grid(True)\n",
    "    plt.savefig(graph,format='png')"
   ]
  },
  {
   "cell_type": "markdown",
   "metadata": {},
   "source": [
    "**Read 1**  \n",
    "![Read1](1294_S1_L008_R1_001.png)  \n",
    "**Index 1**  \n",
    "![Index1](1294_S1_L008_R2_001.png)  \n",
    "**Read 2**  \n",
    "![Read2](1294_S1_L008_R4_001.png)  \n",
    "**Index 2**  \n",
    "![Index2](1294_S1_L008_R3_001.png)  "
   ]
  },
  {
   "cell_type": "code",
   "execution_count": 77,
   "metadata": {},
   "outputs": [
    {
     "name": "stdout",
     "output_type": "stream",
     "text": [
      "1294_S1_L008_R1_001.png\n",
      "1294_S1_L008_R1_001.txt\n",
      "1294_S1_L008_R2_001.png\n",
      "1294_S1_L008_R2_001.txt\n",
      "1294_S1_L008_R3_001.png\n",
      "1294_S1_L008_R3_001.txt\n",
      "1294_S1_L008_R4_001.png\n",
      "1294_S1_L008_R4_001.txt\n",
      "Demultiplexing_p1.pdf\n",
      "demulti.py\n",
      "demulti.sh\n",
      "Hills_Demultiplexing.ipynb\n",
      "index_1.fastq\n",
      "index1LC.txt\n",
      "index1Ncount.txt\n",
      "index_1.png\n",
      "index_1.txt\n",
      "index_2.fastq\n",
      "index2LC.txt\n",
      "index2Ncount.txt\n",
      "index_2.png\n",
      "index_2.txt\n",
      "lane1_NoIndex_L001_R1_003.fastq\n",
      "lane1_NoIndex_L001_R1_003.png\n",
      "lane1_NoIndex_L001_R1_003.txt\n",
      "PhredQscoreErrors.png\n",
      "read_1.fastq\n",
      "read_1.png\n",
      "read_1.txt\n",
      "read_2.fastq\n",
      "read_2.png\n",
      "read_2.txt\n",
      "README.md\n"
     ]
    }
   ],
   "source": [
    "%%bash \n",
    "ls"
   ]
  },
  {
   "cell_type": "markdown",
   "metadata": {},
   "source": [
    "### 2b) Phred Quality-Score Cut-off:  \n",
    "---  \n",
    "> A good quality-score cutoff often depends on the particular applicatation. A quality-score of 20 or higher is often considered usable data, because this means that only 1% of bases are likely to be erroneous. In other cases, we may desire greater certainty, in which case a quality-score cutoff of 30, meaning only 0.1% of bases are likely to be erroneous, can be a useful target. As you can see from the graph below, quality scores below 20 increase in error rates precipitously. For this reason, sequences with a quality-score below 20 are considered unreliable.   \n",
    "\n",
    "![QscoreErrorRate](PhredQscoreErrors.png)\n",
    "\n"
   ]
  },
  {
   "cell_type": "markdown",
   "metadata": {},
   "source": [
    "### 2c) Number of Indexes Containing an \"N\" undetermined base call:  \n",
    "---  \n",
    "**The following shell commands were used to retrieve this information:**  \n",
    ">zcat /projects/bgmp/shared/2017_sequencing/1294_S1_L008_R2_001.fastq.gz | sed -n '2~4p' | grep -cE 'N' > index1Ncount.txt  \n",
    ">zcat /projects/bgmp/shared/2017_sequencing/1294_S1_L008_R3_001.fastq.gz | sed -n '2~4p' | grep -cE 'N' > index2Ncount.txt  \n",
    "\n",
    "_Index 1:  \n",
    "**3,976,613** indexes contained an \"N\"_  \n",
    "_Index 2:  \n",
    "**3,328,051** indexes contained an \"N\"_\n",
    "\n",
    "\n"
   ]
  },
  {
   "cell_type": "markdown",
   "metadata": {},
   "source": [
    "# Part 2  \n",
    "---  \n",
    "> Write a strategy for writing an algorithm for demultiplexing files and reporting index-hopping. That is, given four files (2 w/ biological reads, 2 w/ index reads) and known indexes, sort reads by index, outputting one forward file and one reverse file per index, plus a pair of file for unknown indexes. Additionally, your algorithm should report the number of properly matched indexes (per index) and the level of index hopping observed.  \n",
    "\n",
    "1. Define the Problem:  \n",
    "\n",
    "2. Determine/Describe What Output Would Be Informative:  \n",
    "\n",
    "3. Write Examples (Unit Tests!):  \n",
    "    i. Include four properly formatted input fastq files.  \n",
    "    ii. Include the appropriate number of properly formatted output fastq files.  \n",
    "\n",
    "4. Develop Your Algorithm Using Pseudocode:  \n",
    "\n",
    "5. Determine High-Level Functions:\n",
    "    i. Description  \n",
    "    ii. Function Headers  \n",
    "    iii. Test Examples for Individual Functions  \n",
    "    iv. Return Statement  \n",
    "    "
   ]
  }
 ],
 "metadata": {
  "kernelspec": {
   "display_name": "Python 3",
   "language": "python",
   "name": "python3"
  },
  "language_info": {
   "codemirror_mode": {
    "name": "ipython",
    "version": 3
   },
   "file_extension": ".py",
   "mimetype": "text/x-python",
   "name": "python",
   "nbconvert_exporter": "python",
   "pygments_lexer": "ipython3",
   "version": "3.6.4"
  }
 },
 "nbformat": 4,
 "nbformat_minor": 2
}
