{
 "cells": [
  {
   "cell_type": "code",
   "execution_count": 90,
   "metadata": {},
   "outputs": [],
   "source": [
    "def avg_phred(qual_scores):\n",
    "    \"\"\"\n",
    "    The function takes a character sequence of Illumina Quality scores\n",
    "    and converts it into an average Quality Score for the sequence.\n",
    "    \"\"\"\n",
    "    qual_scores = qual_scores.strip()\n",
    "    N = len(qual_scores)\n",
    "    Total = 0\n",
    "    for char in qual_scores:\n",
    "        phred_score = ord(char)-33\n",
    "        Total += phred_score\n",
    "    avg = Total/N\n",
    "    return avg\n",
    "\n"
   ]
  },
  {
   "cell_type": "code",
   "execution_count": 102,
   "metadata": {},
   "outputs": [],
   "source": [
    "assert avg_phred(\"!!!!!!!!\") == 0\n",
    "assert avg_phred(\"--------\") == 12\n",
    "assert avg_phred(\"IIII!!!!\") == 20\n",
    "assert avg_phred(\"IIIIIIII\") == 40\n"
   ]
  },
  {
   "cell_type": "code",
   "execution_count": 103,
   "metadata": {},
   "outputs": [],
   "source": [
    "def reverse_complement(sequence):\n",
    "    \"\"\"\n",
    "    Takes a sequence of nucleotides (A,C,G,T) and returns \n",
    "    the reverse complement sequence.\n",
    "    \"\"\"\n",
    "    reverse_sequence = sequence[::-1]\n",
    "    comp_dict = {\"A\":\"T\",\"C\":\"G\",\"G\":\"C\",\"T\":\"A\"}\n",
    "    rev_comp = \"\"\n",
    "    for nuc in reverse_sequence:\n",
    "        rev_comp += comp_dict[nuc]\n",
    "    return rev_comp\n",
    "\n"
   ]
  },
  {
   "cell_type": "code",
   "execution_count": 107,
   "metadata": {},
   "outputs": [],
   "source": [
    "assert reverse_complement(\"AAAAAAAA\") == \"TTTTTTTT\"\n",
    "assert reverse_complement(\"ATCGATCG\") == \"CGATCGAT\"\n",
    "assert reverse_complement(\"TATATATA\") == \"TATATATA\"\n",
    "assert reverse_complement(\"ATGATGAT\") == \"ATCATCAT\""
   ]
  },
  {
   "cell_type": "code",
   "execution_count": 108,
   "metadata": {},
   "outputs": [],
   "source": [
    "def hammax(a,b):\n",
    "    \"\"\"\n",
    "    description: hammax takes 2 strings of equal length and returns\n",
    "    their hamming distance.\n",
    "    INPUT: 2 STRINGS\n",
    "    OUTPUT: Hamming Distance <int>\n",
    "    \"\"\"\n",
    "    if isinstance(a,str) != True:\n",
    "        what = str(type(a))\n",
    "        raise Exception(\"hammax takes STRINGS as input. Your 1st input was a {}.\".format(what))\n",
    "    if isinstance(b,str) != True:\n",
    "        why = str(type(b))\n",
    "        raise Exception(\"hammax takes STRINGS as input. Your 2nd input was a {}.\".format(why))\n",
    "    if len(a) != len(b):\n",
    "        raise Exception(\"{} and {} must be of equal length\".format(a,b))\n",
    "    mismatch = 0\n",
    "    match = 0\n",
    "    x = len(a)\n",
    "    for i in range(x):\n",
    "        if a[i] == b[i]:\n",
    "            continue\n",
    "        else:\n",
    "            mismatch+= 1\n",
    "            continue\n",
    "    return mismatch\n",
    "\n"
   ]
  },
  {
   "cell_type": "code",
   "execution_count": 111,
   "metadata": {},
   "outputs": [],
   "source": [
    "assert hammax(\"aBc\",\"AbC\") == 3\n",
    "assert hammax(\"AGT\",\"AGT\") == 0\n",
    "assert hammax(\"TAT\",\"AAA\") == 2\n",
    "assert hammax(\"ATT\",\"ATG\") == 1"
   ]
  },
  {
   "cell_type": "code",
   "execution_count": 120,
   "metadata": {},
   "outputs": [],
   "source": [
    "def keepORnot(seq, a_set):\n",
    "    \"\"\"\n",
    "    INPUT:  seq=A STRING\n",
    "            a_set=AN ITERABLE OBJECT (set, list, dict, tuple) CONTAINING\n",
    "                  A SET OF DISTINCT STRINGS.\n",
    "    OUTPUT: RETURNS \n",
    "    \"\"\"\n",
    "    if isinstance(seq,str) != True:\n",
    "        what = str(type(a))\n",
    "        raise Exception(\"hammax takes a STRING as the first input. Your input was a {}.\".format(what))\n",
    "    if isinstance(a_set,set) != True:\n",
    "        why = str(type(a_set))\n",
    "        raise Exception(\"hammax takes a SET as the second input. Your input was a {}.\".format(why))\n",
    "    for s in a_set:\n",
    "        if hammax(seq,s) < 2:\n",
    "            return s\n",
    "        else:\n",
    "            continue\n",
    "    return \"\"\n"
   ]
  },
  {
   "cell_type": "code",
   "execution_count": 121,
   "metadata": {},
   "outputs": [],
   "source": [
    "setobj = set()\n",
    "setobj.add(\"ACTGATGC\")\n",
    "setobj.add(\"CCCCGGGG\")\n",
    "setobj.add(\"IMTIRED!\")"
   ]
  },
  {
   "cell_type": "code",
   "execution_count": 122,
   "metadata": {},
   "outputs": [],
   "source": [
    "assert keepORnot(\"ACTGATGT\",setobj) == \"ACTGATGC\"\n",
    "assert keepORnot(\"CCCCGCGG\",setobj) == \"CCCCGGGG\"\n",
    "assert keepORnot(\"IMTIREE!\", setobj) == \"IMTIRED!\""
   ]
  }
 ],
 "metadata": {
  "kernelspec": {
   "display_name": "Python 3",
   "language": "python",
   "name": "python3"
  },
  "language_info": {
   "codemirror_mode": {
    "name": "ipython",
    "version": 3
   },
   "file_extension": ".py",
   "mimetype": "text/x-python",
   "name": "python",
   "nbconvert_exporter": "python",
   "pygments_lexer": "ipython3",
   "version": "3.6.4"
  }
 },
 "nbformat": 4,
 "nbformat_minor": 2
}
